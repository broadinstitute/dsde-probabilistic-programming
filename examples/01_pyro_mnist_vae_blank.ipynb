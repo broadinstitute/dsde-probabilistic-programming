{
 "cells": [
  {
   "cell_type": "markdown",
   "metadata": {},
   "source": [
    "## Unsupervised MNIST: part 1\n",
    "\n",
    "### Linear variational autoencoder\n",
    "\n",
    "##### a Pyro demo\n",
    "\n",
    "Stephen Fleming, 20190204\n",
    "\n",
    "for reference, see http://pyro.ai/examples/vae.html"
   ]
  },
  {
   "cell_type": "code",
   "execution_count": 1,
   "metadata": {
    "collapsed": true
   },
   "outputs": [],
   "source": [
    "USE_CUDA = True"
   ]
  },
  {
   "cell_type": "markdown",
   "metadata": {},
   "source": [
    "__The generative model__\n",
    "\n",
    "For a latent variable $z \\in \\mathbb{R}^q$, and observed data $x \\in \\mathbb{R}^d$ with $q < d$, and a scalar $\\sigma$,\n",
    "\n",
    "$$ z \\sim \\mathcal{N} (\\mathbb{0}, \\mathbb{1}) $$\n",
    "$$ x | z \\sim \\mathcal{N} (W z + b, \\sigma^2 \\mathbb{1}) $$\n",
    "\n",
    "Here $W$ is an arbitrary $d \\times q$ matrix, and $b$ is a $d$-dimensional vector.  This sort of linear transformation ($W z + b$) can be parameterized using a PyTorch module called nn.Linear(), to make life easy.\n",
    "\n",
    "Note that this model is not perfect... especially since the data have pixel intensities $\\in \\{0, 1 \\}$.  You will see that the Pyro example on the website uses a Bernoulli distribution instead, and that their image reconstructions are binary."
   ]
  },
  {
   "cell_type": "markdown",
   "metadata": {},
   "source": [
    "![alt text](vae_model.png \"Graphical model for a variational autoencoder\")"
   ]
  },
  {
   "cell_type": "markdown",
   "metadata": {},
   "source": [
    "__The variational posterior__\n",
    "\n",
    "Given $x_i$, we would like a way to come up with $z_i$.  We could either memorize a new $z_i$ for each datapoint $i$, or we can _amortize_ our inference procedure by learning a mapping from $x$ to $z$.  We will do the latter.  Call that function $f(x)$.  Then our variational posterior for $p(z|x)$ is as follows:\n",
    "\n",
    "$$ z_\\mu, z_\\sigma = f(x) $$\n",
    "$$ z | x \\sim \\mathcal{N} (z_\\mu, z_\\sigma) $$"
   ]
  },
  {
   "cell_type": "code",
   "execution_count": 2,
   "metadata": {
    "collapsed": true
   },
   "outputs": [],
   "source": [
    "import pyro\n",
    "from pyro.optim import Adamax\n",
    "import pyro.distributions as dist\n",
    "from pyro.infer import SVI, Trace_ELBO\n",
    "\n",
    "pyro.enable_validation(True)\n",
    "\n",
    "import torch\n",
    "import torch.nn as nn\n",
    "from torch.distributions import constraints\n",
    "from torchvision import datasets, transforms\n",
    "\n",
    "import numpy as np\n",
    "import matplotlib.pyplot as plt\n",
    "%matplotlib inline"
   ]
  },
  {
   "cell_type": "markdown",
   "metadata": {},
   "source": [
    "#### Data loading"
   ]
  },
  {
   "cell_type": "code",
   "execution_count": 3,
   "metadata": {},
   "outputs": [
    {
     "name": "stdout",
     "output_type": "stream",
     "text": [
      "input shape: torch.Size([512, 1, 28, 28])\n",
      "output shape: torch.Size([512])\n"
     ]
    },
    {
     "data": {
      "image/png": "[encoded data removed]",
      "text/plain": [
       "<Figure size 432x288 with 3 Axes>"
      ]
     },
     "metadata": {},
     "output_type": "display_data"
    }
   ],
   "source": [
    "# for loading and batching MNIST dataset\n",
    "def setup_data_loaders(batch_size=128, use_cuda=False):\n",
    "    root = './data'\n",
    "    download = True\n",
    "    trans = transforms.ToTensor()\n",
    "    train_set = datasets.MNIST(root=root, train=True, transform=trans,\n",
    "                               download=download)\n",
    "    test_set = datasets.MNIST(root=root, train=False, transform=trans)\n",
    "\n",
    "#     kwargs = {'num_workers': 1, 'pin_memory': use_cuda}\n",
    "    kwargs = {'num_workers': 0, 'pin_memory': False}\n",
    "    train_loader = torch.utils.data.DataLoader(dataset=train_set,\n",
    "        batch_size=batch_size, shuffle=True, **kwargs)\n",
    "    test_loader = torch.utils.data.DataLoader(dataset=test_set,\n",
    "        batch_size=batch_size, shuffle=False, **kwargs)\n",
    "    return train_loader, test_loader\n",
    "\n",
    "train_loader, test_loader = setup_data_loaders(batch_size=512, use_cuda=USE_CUDA)\n",
    "\n",
    "# check out data loading to see what we get\n",
    "\n",
    "for data in train_loader:\n",
    "    print(f'input shape: {data[0].shape}')\n",
    "    print(f'output shape: {data[1].shape}')\n",
    "    plt.figure()\n",
    "    for i in range(min(3, data[1].shape[0])):\n",
    "        plt.subplot(1, 3, i+1)\n",
    "        plt.imshow(data[0][i, ...].numpy().squeeze(), cmap='gray')\n",
    "        plt.title(data[1][i].item())\n",
    "        plt.xticks([])\n",
    "        plt.yticks([])\n",
    "    plt.show()\n",
    "    break"
   ]
  },
  {
   "cell_type": "markdown",
   "metadata": {},
   "source": [
    "#### Define the encoder and decoder: use nn.Linear()"
   ]
  },
  {
   "cell_type": "code",
   "execution_count": 4,
   "metadata": {
    "collapsed": true
   },
   "outputs": [],
   "source": [
    "# class Encoder\n",
    "\n"
   ]
  },
  {
   "cell_type": "code",
   "execution_count": 5,
   "metadata": {
    "collapsed": true
   },
   "outputs": [],
   "source": [
    "# class Decoder\n",
    "\n"
   ]
  },
  {
   "cell_type": "markdown",
   "metadata": {},
   "source": [
    "#### Define the Pyro model and guide"
   ]
  },
  {
   "cell_type": "code",
   "execution_count": 6,
   "metadata": {
    "collapsed": true
   },
   "outputs": [],
   "source": [
    "# class VAE\n",
    "\n"
   ]
  },
  {
   "cell_type": "code",
   "execution_count": 7,
   "metadata": {
    "collapsed": true
   },
   "outputs": [],
   "source": [
    "# setting up the model\n",
    "\n",
    "Q = 100  # dimensionality of our latent embedding\n",
    "\n",
    "D = 28*28\n",
    "assert Q < D, \"The embedded dimension must be less than that of the data.\"\n",
    "\n",
    "pyro.clear_param_store()\n",
    "\n",
    "encoder = Encoder(D, Q)\n",
    "decoder = Decoder(Q, D)\n",
    "\n",
    "vae = VAE(encoder, decoder, use_cuda=USE_CUDA)"
   ]
  },
  {
   "cell_type": "code",
   "execution_count": null,
   "metadata": {
    "collapsed": true
   },
   "outputs": [],
   "source": [
    "# setting up inference\n",
    "\n",
    "optimizer = Adamax({\"lr\": 1.0e-3})\n",
    "\n",
    "svi = SVI(vae.model, vae.guide, optimizer, loss=Trace_ELBO())\n",
    "\n",
    "def train(svi, train_loader, use_cuda=False):\n",
    "    # initialize loss accumulator\n",
    "    epoch_loss = 0.\n",
    "    # do a training epoch over each mini-batch x returned\n",
    "    # by the data loader\n",
    "    for x, _ in train_loader:\n",
    "        # if on GPU put mini-batch into CUDA memory\n",
    "        if use_cuda:\n",
    "            x = x.cuda()\n",
    "        # do ELBO gradient and accumulate loss\n",
    "        epoch_loss += svi.step(x)\n",
    "\n",
    "    # return epoch loss\n",
    "    normalizer_train = len(train_loader.dataset)\n",
    "    total_epoch_loss_train = epoch_loss / normalizer_train\n",
    "    return total_epoch_loss_train\n",
    "\n",
    "def evaluate(svi, test_loader, use_cuda=False):\n",
    "    # initialize loss accumulator\n",
    "    test_loss = 0.\n",
    "    # compute the loss over the entire test set\n",
    "    for x, _ in test_loader:\n",
    "        # if on GPU put mini-batch into CUDA memory\n",
    "        if use_cuda:\n",
    "            x = x.cuda()\n",
    "        # compute ELBO estimate and accumulate loss\n",
    "        test_loss += svi.evaluate_loss(x)\n",
    "    normalizer_test = len(test_loader.dataset)\n",
    "    total_epoch_loss_test = test_loss / normalizer_test\n",
    "    return total_epoch_loss_test"
   ]
  },
  {
   "cell_type": "code",
   "execution_count": null,
   "metadata": {
    "collapsed": true,
    "scrolled": false
   },
   "outputs": [],
   "source": [
    "# running inference\n",
    "\n",
    "NUM_EPOCHS = 100\n",
    "TEST_FREQUENCY = 5\n",
    "\n",
    "train_loader, test_loader = setup_data_loaders(batch_size=512, use_cuda=USE_CUDA)\n",
    "\n",
    "train_elbo = []\n",
    "test_elbo = []\n",
    "# training loop\n",
    "for epoch in range(NUM_EPOCHS):\n",
    "    total_epoch_loss_train = train(svi, train_loader, use_cuda=USE_CUDA)\n",
    "    train_elbo.append(-total_epoch_loss_train)\n",
    "    print(\"[epoch %03d]  average training loss: %.4f\" % (epoch, total_epoch_loss_train))\n",
    "\n",
    "    if epoch % TEST_FREQUENCY == 0:\n",
    "        # report test diagnostics\n",
    "        total_epoch_loss_test = evaluate(svi, test_loader, use_cuda=USE_CUDA)\n",
    "        test_elbo.append(-total_epoch_loss_test)\n",
    "        print(\"[epoch %03d] average test loss: %.4f\" % (epoch, total_epoch_loss_test))"
   ]
  },
  {
   "cell_type": "code",
   "execution_count": null,
   "metadata": {
    "collapsed": true
   },
   "outputs": [],
   "source": [
    "# look at the progress of training\n",
    "\n",
    "plt.plot(np.arange(0, len(train_elbo)), np.array(train_elbo))\n",
    "plt.plot(np.arange(0, len(train_elbo), TEST_FREQUENCY), np.array(test_elbo), '.--')\n",
    "plt.xlabel('epoch')\n",
    "plt.ylabel('ELBO')\n",
    "plt.title('Training procedure')\n",
    "plt.legend(['train', 'test'])\n",
    "plt.show()"
   ]
  },
  {
   "cell_type": "markdown",
   "metadata": {},
   "source": [
    "#### Explore the latent embedding"
   ]
  },
  {
   "cell_type": "code",
   "execution_count": null,
   "metadata": {
    "collapsed": true
   },
   "outputs": [],
   "source": [
    "# examine the embedding...\n",
    "\n",
    "# compute the embedding\n",
    "\n",
    "z = np.empty([1, Q])\n",
    "labels = np.empty(1)\n",
    "\n",
    "for data in test_loader:\n",
    "    if z.shape[0] >= 3000:\n",
    "        break\n",
    "    z = np.concatenate((z, vae.encoder(data[0].to(device=vae.device)\n",
    "                                       .view(data[0].shape[0], -1))['loc']\n",
    "                        .detach().cpu().numpy()))\n",
    "    labels = np.concatenate((labels, data[1].numpy()))\n",
    "\n",
    "z[np.isnan(z)] = 0\n",
    "z[z > 1e100] = 1e100\n",
    "    \n",
    "# plot it\n",
    "\n",
    "# and I know this sounds ridiculous but we have to do more\n",
    "# dimensionality reduction to visualize our dimensionality reduction\n",
    "\n",
    "from sklearn.manifold import TSNE\n",
    "\n",
    "z_tsne = TSNE(n_components=2).fit_transform(z)\n",
    "\n",
    "plt.rcParams.update({'font.size': 14})\n",
    "\n",
    "plt.figure(figsize=(8, 8), frameon=False)\n",
    "for k in np.unique(labels):\n",
    "    plt.plot(z_tsne[labels==k, 0], \n",
    "             z_tsne[labels==k, 1], '.', ms=8, alpha=0.5)\n",
    "\n",
    "lgnd = plt.legend(np.unique(labels).astype(int), \n",
    "                  loc='center left', bbox_to_anchor=(1, 0.5))\n",
    "for i in range(len(lgnd.legendHandles)):\n",
    "    lgnd.legendHandles[i]._legmarker.set_markersize(20)\n",
    "    lgnd.legendHandles[i]._legmarker.set_alpha(1)\n",
    "\n",
    "plt.xlabel('TSNE 0')\n",
    "plt.ylabel('TSNE 1')\n",
    "plt.title('Visualization of embedding')\n",
    "plt.box(on=None)\n",
    "plt.show()"
   ]
  },
  {
   "cell_type": "code",
   "execution_count": null,
   "metadata": {
    "collapsed": true,
    "scrolled": false
   },
   "outputs": [],
   "source": [
    "# image reconstruction\n",
    "\n",
    "for d in range(data[0].shape[0]):\n",
    "    plt.subplot(1, 2, 1)\n",
    "    plt.imshow(data[0][d, ...].numpy().squeeze(), cmap='gray')\n",
    "    plt.xticks([])\n",
    "    plt.yticks([])\n",
    "    plt.title('Original')\n",
    "    \n",
    "    plt.subplot(1, 2, 2)\n",
    "    embedding = vae.encoder(data[0][d, ...].to(device=vae.device).view(1, -1))['loc']\n",
    "    reconstruction = vae.decoder(embedding).detach().cpu().view((28, 28)).numpy()\n",
    "\n",
    "    plt.imshow(reconstruction, cmap='gray',\n",
    "               vmin=0, vmax=1)\n",
    "    plt.xticks([])\n",
    "    plt.yticks([])\n",
    "    plt.title('Reconstruction')\n",
    "    plt.show()\n",
    "    if d > 5:\n",
    "        break"
   ]
  },
  {
   "cell_type": "code",
   "execution_count": null,
   "metadata": {
    "collapsed": true
   },
   "outputs": [],
   "source": [
    "# draw me some numbers (this uses label information)\n",
    "# interpolate between two digits\n",
    "\n",
    "num1 = 3\n",
    "num2 = 8\n",
    "\n",
    "z1_mean = z[labels==num1].mean(axis=0)  # a sort of 'average digit' in latent space\n",
    "z2_mean = z[labels==num2].mean(axis=0)\n",
    "\n",
    "# for i in z1_mean.size:\n",
    "z_interp = np.concatenate([np.expand_dims(np.linspace(z1_mean[i], z2_mean[i], 5), 0)\n",
    "                           for i in range(z1_mean.size)]).transpose()\n",
    "z_interp = torch.Tensor(z_interp).to(device=vae.device)\n",
    "\n",
    "for i in range(z_interp.shape[0]):\n",
    "    reconstruction = vae.decoder(z_interp[i, ...]).detach().cpu().view((28, 28)).numpy()\n",
    "    \n",
    "    plt.imshow(reconstruction, cmap='gray',\n",
    "               vmin=0, vmax=1)\n",
    "    plt.xticks([])\n",
    "    plt.yticks([])\n",
    "    plt.show()"
   ]
  },
  {
   "cell_type": "code",
   "execution_count": null,
   "metadata": {
    "collapsed": true
   },
   "outputs": [],
   "source": []
  }
 ],
 "metadata": {
  "kernelspec": {
   "display_name": "Python [default]",
   "language": "python",
   "name": "python3"
  },
  "language_info": {
   "codemirror_mode": {
    "name": "ipython",
    "version": 3
   },
   "file_extension": ".py",
   "mimetype": "text/x-python",
   "name": "python",
   "nbconvert_exporter": "python",
   "pygments_lexer": "ipython3",
   "version": "3.6.8"
  }
 },
 "nbformat": 4,
 "nbformat_minor": 2
}
