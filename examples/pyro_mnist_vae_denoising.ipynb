{
 "cells": [
  {
   "cell_type": "markdown",
   "metadata": {},
   "source": [
    "## Unsupervised MNIST: denoising\n",
    "\n",
    "### Variational autoencoder\n",
    "\n",
    "##### and an exploration of a sparse matrix format in PyTorch\n",
    "\n",
    "Stephen Fleming, 20190323"
   ]
  },
  {
   "cell_type": "code",
   "execution_count": 1,
   "metadata": {},
   "outputs": [],
   "source": [
    "USE_CUDA = False"
   ]
  },
  {
   "cell_type": "markdown",
   "metadata": {},
   "source": [
    "__Problem Statement__\n",
    "\n",
    "There are MNIST images of hand-written digits.  There is structured noise added to each image (drawn randomly from the same underlying noise distribution).  The idea is to remove that structured noise.  Some of the images are just noise, with no digit.  The goal is also to identify the images which have no digit present.\n",
    "\n",
    "A secondary aim of this notebook explores the use of a sparse data structure to hold datasets like this in memory."
   ]
  },
  {
   "cell_type": "markdown",
   "metadata": {},
   "source": [
    "__The Dataset__\n",
    "\n",
    "The typical MNIST dataset is used to create a new sparse dataset.  Rows are images, columns are 784 pixels, and the pixels are sparse entries.\n",
    "\n",
    "Images are scaled arbitrarily (by scale factors drawn from a LogNormal distribution) and structured noise is added (same set of pixels, same ratios, with different scaling, drawn from a smaller LogNormal).  This dataset is meant to be a visual analog of the scRNA-seq data denoising problem.\n",
    "\n",
    "The idea is to use sparse torch tensors to load the entire dataset into memory at once, removing the need for repeated loading from disk (and repeated transfers to GPU if using CUDA)."
   ]
  },
  {
   "cell_type": "markdown",
   "metadata": {},
   "source": [
    "__The generative model__\n",
    "\n",
    "For a latent variable $z \\in \\mathbb{R}^q$, and observed data $x \\in \\mathbb{R}^d$ with $q < d$,\n",
    "\n",
    "$$ z \\sim \\mathcal{N} (\\mathbb{0}, \\mathbb{1}) $$\n",
    "$$ \\chi = f_d(z) $$\n",
    "$$ y \\sim \\text{Bernoulli} (p_y) $$\n",
    "$$ d \\sim \\text{LogNormal} (d_\\mu, d_\\sigma) $$\n",
    "$$ d^a \\sim \\text{LogNormal} (d^a_\\mu, d^a_\\sigma) $$\n",
    "$$ x \\sim \\text{Poisson} (y d \\chi + d^a \\chi^a_{\\text{noise}}) $$"
   ]
  },
  {
   "cell_type": "markdown",
   "metadata": {},
   "source": [
    "__The variational posterior__\n",
    "\n",
    "Given $x_i$, we would like a way to come up with $z_i$.  We could either memorize a new $z_i$ for each datapoint $i$, or we can _amortize_ our inference procedure by learning a mapping from $x$ to $z$.  We will do the latter.  Call that function $f_e(x)$.  Then our variational posterior for $p(z|x)$ is as follows:\n",
    "\n",
    "$$ z_\\mu, z_\\sigma = f_e(x) $$\n",
    "$$ z | x \\sim \\mathcal{N} (z_\\mu, z_\\sigma) $$\n",
    "$$ p_y = f_{e,p}(x) $$\n",
    "$$ d = \\max \\left( 0, \\sum x - d^a_\\mu \\right) $$"
   ]
  },
  {
   "cell_type": "code",
   "execution_count": 2,
   "metadata": {},
   "outputs": [],
   "source": [
    "import pyro\n",
    "from pyro.optim import ClippedAdam\n",
    "import pyro.distributions as dist\n",
    "from pyro.infer import SVI, JitTraceEnum_ELBO, config_enumerate\n",
    "\n",
    "pyro.enable_validation(True)\n",
    "\n",
    "import torch\n",
    "import torch.nn as nn\n",
    "from torch.distributions import constraints\n",
    "from torchvision import datasets, transforms\n",
    "\n",
    "import numpy as np\n",
    "import matplotlib.pyplot as plt\n",
    "%matplotlib inline"
   ]
  },
  {
   "cell_type": "markdown",
   "metadata": {},
   "source": [
    "#### Initial MNIST dataset"
   ]
  },
  {
   "cell_type": "code",
   "execution_count": 3,
   "metadata": {},
   "outputs": [
    {
     "name": "stdout",
     "output_type": "stream",
     "text": [
      "input shape: torch.Size([512, 1, 28, 28])\n",
      "output shape: torch.Size([512])\n"
     ]
    },
    {
     "data": {
      "image/png": "[encoded data removed]",
      "text/plain": [
       "<Figure size 432x288 with 3 Axes>"
      ]
     },
     "metadata": {},
     "output_type": "display_data"
    }
   ],
   "source": [
    "# for loading and batching MNIST dataset\n",
    "def setup_data_loaders(batch_size=128, use_cuda=False):\n",
    "    root = './data'\n",
    "    download = True\n",
    "    trans = transforms.ToTensor()\n",
    "    train_set = datasets.MNIST(root=root, train=True, transform=trans,\n",
    "                               download=download)\n",
    "    test_set = datasets.MNIST(root=root, train=False, transform=trans)\n",
    "\n",
    "#     kwargs = {'num_workers': 1, 'pin_memory': use_cuda}\n",
    "    kwargs = {'num_workers': 0, 'pin_memory': False}\n",
    "    train_loader = torch.utils.data.DataLoader(dataset=train_set,\n",
    "        batch_size=batch_size, shuffle=True, **kwargs)\n",
    "    test_loader = torch.utils.data.DataLoader(dataset=test_set,\n",
    "        batch_size=batch_size, shuffle=False, **kwargs)\n",
    "    return train_loader, test_loader\n",
    "\n",
    "train_loader, test_loader = setup_data_loaders(batch_size=512, use_cuda=USE_CUDA)\n",
    "\n",
    "# check out data loading to see what we get\n",
    "\n",
    "for data in train_loader:\n",
    "    print(f'input shape: {data[0].shape}')\n",
    "    print(f'output shape: {data[1].shape}')\n",
    "    plt.figure()\n",
    "    for i in range(min(3, data[1].shape[0])):\n",
    "        plt.subplot(1, 3, i+1)\n",
    "        plt.imshow(data[0][i, ...].numpy().squeeze(), cmap='gray')\n",
    "        plt.title(data[1][i].item())\n",
    "        plt.xticks([])\n",
    "        plt.yticks([])\n",
    "    plt.show()\n",
    "    break"
   ]
  },
  {
   "cell_type": "markdown",
   "metadata": {},
   "source": [
    "#### Creation of sparse dataset with added noise"
   ]
  },
  {
   "cell_type": "code",
   "execution_count": 4,
   "metadata": {},
   "outputs": [
    {
     "data": {
      "text/plain": [
       "23437500.0"
      ]
     },
     "execution_count": 4,
     "metadata": {},
     "output_type": "execute_result"
    }
   ],
   "source": [
    "# estimate of nonzero entries in sparse matrix that could hold the whole dataset\n",
    "\n",
    "60000*200000/512"
   ]
  },
  {
   "cell_type": "code",
   "execution_count": 5,
   "metadata": {},
   "outputs": [
    {
     "data": {
      "text/plain": [
       "tensor(1.)"
      ]
     },
     "execution_count": 5,
     "metadata": {},
     "output_type": "execute_result"
    }
   ],
   "source": [
    "data[0].max()"
   ]
  },
  {
   "cell_type": "code",
   "execution_count": 6,
   "metadata": {},
   "outputs": [
    {
     "data": {
      "text/plain": [
       "torch.Size([512, 784])"
      ]
     },
     "execution_count": 6,
     "metadata": {},
     "output_type": "execute_result"
    }
   ],
   "source": [
    "data[0].reshape([-1, data[0].shape[-1] * data[0].shape[-2]]).shape"
   ]
  },
  {
   "cell_type": "code",
   "execution_count": 7,
   "metadata": {},
   "outputs": [
    {
     "name": "stdout",
     "output_type": "stream",
     "text": [
      "scale of noise/signal is about 0.14\n"
     ]
    }
   ],
   "source": [
    "# figure out the noise profile\n",
    "\n",
    "NOISE_SCALE = 6.0\n",
    "SIGNAL_SCALE = 8.0\n",
    "\n",
    "print(f'scale of noise/signal is about {np.exp(NOISE_SCALE) / np.exp(SIGNAL_SCALE):.2g}')\n",
    "\n",
    "# use the average of some of the data...\n",
    "average = data[0].reshape([-1, data[0].shape[-1] * data[0].shape[-2]]).mean(dim=0)\n",
    "average = average / average.sum(dim=-1, keepdim=True)"
   ]
  },
  {
   "cell_type": "code",
   "execution_count": 8,
   "metadata": {},
   "outputs": [
    {
     "data": {
      "text/plain": [
       "torch.Size([784])"
      ]
     },
     "execution_count": 8,
     "metadata": {},
     "output_type": "execute_result"
    }
   ],
   "source": [
    "average.shape"
   ]
  },
  {
   "cell_type": "code",
   "execution_count": 9,
   "metadata": {},
   "outputs": [],
   "source": [
    "# go through training dataset until we've got about 10k\n",
    "\n",
    "NUM_IMAGES = 30000\n",
    "NUM_EMPTY = 30000\n",
    "\n",
    "rows = []\n",
    "cols = []\n",
    "vals = []\n",
    "\n",
    "rows_true = []\n",
    "cols_true = []\n",
    "vals_true = []\n",
    "\n",
    "batch = 0\n",
    "\n",
    "for batch, data in enumerate(train_loader):\n",
    "    \n",
    "    # draw scale factors for signal\n",
    "    d = dist.LogNormal(SIGNAL_SCALE, 0.2).expand([data[0].shape[0]]).sample()\n",
    "    \n",
    "    # draw scale factors for noise\n",
    "    da = dist.LogNormal(NOISE_SCALE, 0.2).expand([data[0].shape[0]]).sample()\n",
    "    \n",
    "    reshaped_data = data[0].reshape([-1, data[0].shape[-1] * data[0].shape[-2]])\n",
    "    reshaped_data = reshaped_data / reshaped_data.sum(dim=-1, keepdim=True)\n",
    "    \n",
    "    # create dataset\n",
    "    true_data = (reshaped_data * d.unsqueeze(-1)).round()\n",
    "    \n",
    "    # to sparse format\n",
    "    ind_tensor_true = torch.nonzero(true_data)\n",
    "    nzrows_true = ind_tensor_true[:, 0]\n",
    "    nzcols_true = ind_tensor_true[:, 1]\n",
    "    rows_true.extend((nzrows_true + batch * train_loader.batch_size).tolist())\n",
    "    cols_true.extend(nzcols_true.tolist())\n",
    "    vals_true.extend(true_data[nzrows_true, nzcols_true].tolist())\n",
    "    \n",
    "    # create noisy dataset\n",
    "    noisy_data = true_data + (average.unsqueeze(0) * da.unsqueeze(-1)).round()\n",
    "    \n",
    "    ind_tensor = torch.nonzero(noisy_data)\n",
    "    nzrows = ind_tensor[:, 0]\n",
    "    nzcols = ind_tensor[:, 1]\n",
    "    rows.extend((nzrows + batch * train_loader.batch_size).tolist())\n",
    "    cols.extend(nzcols.tolist())\n",
    "    vals.extend(noisy_data[nzrows, nzcols].tolist())\n",
    "    \n",
    "    if (batch + 1) * train_loader.batch_size > NUM_IMAGES:\n",
    "        break\n",
    "\n",
    "# add in more images that are noise alone\n",
    "\n",
    "num_im = rows[-1]\n",
    "\n",
    "for i in range(int(NUM_EMPTY/500)):\n",
    "    \n",
    "    # draw scale factors for noise\n",
    "    da = dist.LogNormal(NOISE_SCALE, 0.2).expand([500]).sample()\n",
    "    \n",
    "    noisy_data = (average.unsqueeze(0) * da.unsqueeze(-1)).round()\n",
    "    \n",
    "    ind_tensor = torch.nonzero(noisy_data)\n",
    "    nzrows = ind_tensor[:, 0]\n",
    "    nzcols = ind_tensor[:, 1]\n",
    "    rows.extend((num_im + i * 500 + nzrows).tolist())\n",
    "    cols.extend(nzcols.tolist())\n",
    "    vals.extend(noisy_data[nzrows, nzcols].tolist())"
   ]
  },
  {
   "cell_type": "code",
   "execution_count": 10,
   "metadata": {},
   "outputs": [],
   "source": [
    "# make sparse tensors\n",
    "\n",
    "sparse_data = torch.sparse.FloatTensor(torch.LongTensor([rows, cols]), \n",
    "                                       torch.tensor(vals), \n",
    "                                       torch.Size([rows[-1] + 1, 28 * 28]))\n",
    "\n",
    "sparse_truth = torch.sparse.FloatTensor(torch.LongTensor([rows_true, cols_true]), \n",
    "                                        torch.tensor(vals_true),\n",
    "                                        torch.Size([rows_true[-1] + 1, 28 * 28]))"
   ]
  },
  {
   "cell_type": "code",
   "execution_count": 11,
   "metadata": {},
   "outputs": [
    {
     "data": {
      "text/plain": [
       "tensor(indices=tensor([[    0,     0,     0,  ..., 60206, 60206, 60206],\n",
       "                       [  125,   126,   127,  ...,   684,   685,   686]]),\n",
       "       values=tensor([1., 1., 1.,  ..., 1., 1., 1.]),\n",
       "       size=(60207, 784), nnz=17268831, layout=torch.sparse_coo)"
      ]
     },
     "execution_count": 11,
     "metadata": {},
     "output_type": "execute_result"
    }
   ],
   "source": [
    "sparse_data"
   ]
  },
  {
   "cell_type": "code",
   "execution_count": 12,
   "metadata": {},
   "outputs": [
    {
     "data": {
      "text/plain": [
       "tensor(indices=tensor([[    0,     0,     0,  ..., 30207, 30207, 30207],\n",
       "                       [  148,   149,   150,  ...,   683,   684,   685]]),\n",
       "       values=tensor([ 6., 16., 34.,  ..., 23., 15.,  1.]),\n",
       "       size=(30208, 784), nnz=4459527, layout=torch.sparse_coo)"
      ]
     },
     "execution_count": 12,
     "metadata": {},
     "output_type": "execute_result"
    }
   ],
   "source": [
    "sparse_truth"
   ]
  },
  {
   "cell_type": "code",
   "execution_count": 13,
   "metadata": {},
   "outputs": [],
   "source": [
    "from typing import List, Union\n",
    "\n",
    "def sparse_collate(sparse_tensor: torch.sparse.FloatTensor, \n",
    "                   row_inds: Union[int, List[int]]) -> torch.FloatTensor:\n",
    "    \"\"\"Row slice a sparse torch tensor, one row at a time.\n",
    "    Return dense tensor.\n",
    "    \"\"\"\n",
    "    \n",
    "    if type(row_inds) is int:\n",
    "        row_inds = [row_inds]\n",
    "    \n",
    "    # find all elements with given row ind\n",
    "    logic = torch.zeros(sparse_tensor._values().shape).byte()  # false\n",
    "    for ind in row_inds:\n",
    "        logic = logic | sparse_tensor._indices()[0, :].eq(ind)\n",
    "    \n",
    "    i = torch.nonzero(logic).squeeze()\n",
    "    \n",
    "    # new sparse tensor\n",
    "    inds = sparse_tensor._indices()[:, i]\n",
    "    _, rows = torch.unique(inds[0, :], return_inverse=True)\n",
    "    inds[0, :] = rows\n",
    "    s = torch.sparse.FloatTensor(inds,\n",
    "                                 sparse_tensor._values()[i],\n",
    "                                 torch.Size([len(row_inds), 28 * 28]))\n",
    "    \n",
    "    return s.to_dense()"
   ]
  },
  {
   "cell_type": "code",
   "execution_count": 14,
   "metadata": {},
   "outputs": [
    {
     "data": {
      "image/png": "[encoded data removed]",
      "text/plain": [
       "<Figure size 432x288 with 1 Axes>"
      ]
     },
     "metadata": {},
     "output_type": "display_data"
    }
   ],
   "source": [
    "plt.imshow((average * da[0].unsqueeze(-1)).round().reshape([28, 28]))\n",
    "plt.show()"
   ]
  },
  {
   "cell_type": "code",
   "execution_count": 15,
   "metadata": {},
   "outputs": [
    {
     "data": {
      "image/png": "[encoded data removed]",
      "text/plain": [
       "<Figure size 432x288 with 1 Axes>"
      ]
     },
     "metadata": {},
     "output_type": "display_data"
    }
   ],
   "source": [
    "plt.imshow(sparse_collate(sparse_data, 1000).reshape([28, 28]))\n",
    "plt.show()"
   ]
  },
  {
   "cell_type": "code",
   "execution_count": 16,
   "metadata": {},
   "outputs": [
    {
     "data": {
      "image/png": "[encoded data removed]",
      "text/plain": [
       "<Figure size 432x288 with 1 Axes>"
      ]
     },
     "metadata": {},
     "output_type": "display_data"
    }
   ],
   "source": [
    "plt.imshow(sparse_collate(sparse_truth, 1000).reshape([28, 28]))\n",
    "plt.show()"
   ]
  },
  {
   "cell_type": "code",
   "execution_count": 17,
   "metadata": {},
   "outputs": [
    {
     "data": {
      "image/png": "[encoded data removed]",
      "text/plain": [
       "<Figure size 432x288 with 1 Axes>"
      ]
     },
     "metadata": {},
     "output_type": "display_data"
    }
   ],
   "source": [
    "plt.imshow(sparse_collate(sparse_data, 25000).reshape([28, 28]))\n",
    "plt.show()"
   ]
  },
  {
   "cell_type": "markdown",
   "metadata": {},
   "source": [
    "#### Define the encoder and decoder: use nn.Linear()"
   ]
  },
  {
   "cell_type": "code",
   "execution_count": 18,
   "metadata": {},
   "outputs": [],
   "source": [
    "class Encoder(nn.Module):\n",
    "    \"\"\"A basic encoder with a single hidden layer.\n",
    "    \n",
    "    Encodes two parameters, 'loc' and 'scale', which are the \n",
    "    mean and standard deviation of a Gaussian in latent space.\n",
    "    The 'scale' is made to be positive by applying torch.exp().\n",
    "    \n",
    "    \"\"\"\n",
    "    \n",
    "    def __init__(self, d: int, h: int, q: int):\n",
    "        super(Encoder, self).__init__()\n",
    "        assert q < d, f\"Latent space ({q}) must have smaller dimension that data ({d}).\"\n",
    "        self.d = d\n",
    "        self.q = q\n",
    "        self.h = h\n",
    "        self.fc1 = nn.Linear(d, h)\n",
    "        self.fc_mu = nn.Linear(h, q)\n",
    "        self.fc_sigma = nn.Linear(h, q)\n",
    "        self.softplus = nn.Softplus()\n",
    "        \n",
    "    def forward(self, x):\n",
    "        x = x / x.sum(dim=-1, keepdim=True)  # normalize\n",
    "        hidden = self.softplus(self.fc1(x))\n",
    "        return {'loc': self.fc_mu(hidden), \n",
    "                'scale': torch.exp(self.fc_sigma(hidden))}"
   ]
  },
  {
   "cell_type": "code",
   "execution_count": 19,
   "metadata": {},
   "outputs": [],
   "source": [
    "class EncoderP(nn.Module):\n",
    "    \"\"\"A basic encoder with no hidden layer.\n",
    "    \n",
    "    Encodes one parameter, the logit of a Bernoulli.\n",
    "    \n",
    "    \"\"\"\n",
    "    \n",
    "    def __init__(self, d: int, q: int, transition_estimate: int):\n",
    "        super(EncoderP, self).__init__()\n",
    "        assert q < d, f\"Latent space ({q}) must have smaller dimension that data ({d}).\"\n",
    "        self.d = d\n",
    "        self.q = q\n",
    "        self.transition_estimate = transition_estimate\n",
    "        self.fc1 = nn.Linear(d + 1, q)\n",
    "        with torch.no_grad():\n",
    "            self.fc1.weight[0, 0] = 1.0\n",
    "        \n",
    "    def forward(self, x):\n",
    "        total = x.sum(dim=-1, keepdim=True)\n",
    "        return self.fc1(torch.cat((total, x), dim=-1)) - self.transition_estimate"
   ]
  },
  {
   "cell_type": "code",
   "execution_count": 20,
   "metadata": {},
   "outputs": [],
   "source": [
    "class Decoder(nn.Module):\n",
    "    \"\"\"A basic decoder with a single hidden layer.\n",
    "    \n",
    "    Output is on a simplex.\n",
    "    \n",
    "    \"\"\"\n",
    "    \n",
    "    def __init__(self, q: int, h: int, d: int):\n",
    "        super(Decoder, self).__init__()\n",
    "        assert q < d, f\"Latent space ({q}) must have smaller dimension that data ({d}).\"\n",
    "        self.d = d\n",
    "        self.q = q\n",
    "        self.h = h\n",
    "        self.fc1 = nn.Linear(q, h)\n",
    "        self.fc2 = nn.Linear(h, d)\n",
    "        self.softplus = nn.Softplus()\n",
    "        self.softmax = nn.Softmax(dim=-1)\n",
    "        \n",
    "    def forward(self, x):\n",
    "        return self.softmax(self.fc2(self.softplus(self.fc1(x))))"
   ]
  },
  {
   "cell_type": "markdown",
   "metadata": {},
   "source": [
    "#### Define the Pyro model and guide"
   ]
  },
  {
   "cell_type": "code",
   "execution_count": 21,
   "metadata": {},
   "outputs": [],
   "source": [
    "class Denoiser(nn.Module):\n",
    "    \"\"\"Pyro model based on a variational autoencoder.\n",
    "    \n",
    "    Attributes:\n",
    "        encoder: pytorch nn.Module instance of an Encoder for p(z|x).\n",
    "        decoder: pytorch nn.Module instance of a Decoder for p(x|z).\n",
    "        use_cuda: True to use a GPU.\n",
    "    \n",
    "    \"\"\"\n",
    "    \n",
    "    def __init__(self, \n",
    "                 encoder: Encoder, \n",
    "                 encoderP: EncoderP, \n",
    "                 decoder: Decoder, \n",
    "                 chi_noise_init: torch.FloatTensor, \n",
    "                 use_cuda: bool = True):\n",
    "        super(Denoiser, self).__init__()\n",
    "        self.encoder = encoder\n",
    "        self.encoderP = encoderP\n",
    "        self.decoder = decoder\n",
    "        \n",
    "        self.noise_loc_prior = NOISE_SCALE\n",
    "        self.signal_loc_prior = SIGNAL_SCALE\n",
    "        self.p_y_prior = NUM_IMAGES / (NUM_IMAGES + NUM_EMPTY)\n",
    "        self.chi_noise_init = chi_noise_init\n",
    "        \n",
    "        self.q = encoder.q\n",
    "        self.d = encoder.d\n",
    "        assert encoder.fc_mu.out_features == decoder.fc1.in_features, \\\n",
    "            f\"Latent space do not match for encoder ({encoder.fc_mu.out_features}) \" \\\n",
    "            f\"and decoder ({decoder.fc1.in_features})\"\n",
    "        assert encoder.fc1.in_features == decoder.fc2.out_features, \\\n",
    "            f\"Data dimensions do not match for encoder ({encoder.fc1.in_features}) \" \\\n",
    "            f\"and decoder ({decoder.fc2.out_features})\"\n",
    "        self.use_cuda = use_cuda and torch.cuda.is_available()\n",
    "        self.device = 'cuda' if self.use_cuda else 'cpu'\n",
    "        if self.use_cuda:\n",
    "            self.cuda()  # puts the encoder and decoder params on GPU\n",
    "    \n",
    "    def model(self, x):\n",
    "        \"\"\"Model for data generation.\"\"\"\n",
    "        \n",
    "        # Register the decoder module with pyro\n",
    "        pyro.module(\"decoder\", self.decoder)\n",
    "        \n",
    "        # A noise parameter\n",
    "        chi_noise = pyro.param(\"chi_noise\", \n",
    "                               self.chi_noise_init.to(device=self.device),\n",
    "                               constraint=constraints.simplex)\n",
    "        \n",
    "        # Plate structure implies conditional independence of data points\n",
    "        # in a batch\n",
    "        with pyro.plate(\"data\", size=x.shape[0]):\n",
    "            \n",
    "            z_loc = x.new_zeros(torch.Size((x.shape[0], self.q)))\n",
    "            z_scale = x.new_ones(torch.Size((x.shape[0], self.q)))\n",
    "            \n",
    "            # Draw z from the prior p(z)\n",
    "            z = pyro.sample(\"z\", dist.Normal(loc=z_loc, \n",
    "                                             scale=z_scale).to_event(1))\n",
    "            \n",
    "            # Decode to get fractional image\n",
    "            chi = self.decoder(z)\n",
    "            \n",
    "            # Draw scale factors\n",
    "            d = pyro.sample(\"d\", dist.LogNormal(loc=self.signal_loc_prior,\n",
    "                                                scale=0.2))\n",
    "            da = pyro.sample(\"da\", dist.LogNormal(loc=self.noise_loc_prior,\n",
    "                                                  scale=0.2))\n",
    "            \n",
    "            # Draw y for whether image contains a digit\n",
    "            y = pyro.sample(\"y\", dist.Bernoulli(self.p_y_prior))\n",
    "            \n",
    "            # Total image\n",
    "            mu = (y.unsqueeze(-1) * d.unsqueeze(-1) * chi \n",
    "                  + da.unsqueeze(-1) * chi_noise) + 1e-10\n",
    "            \n",
    "            # Draw x according to our model for p(x|z)\n",
    "            pyro.sample(\"obs\", dist.Poisson(mu).to_event(1), obs=x)\n",
    "    \n",
    "    @config_enumerate(default='parallel')\n",
    "    def guide(self, x):\n",
    "        \"\"\"Guide: the inference network.\"\"\"\n",
    "        \n",
    "        # Register the encoder module with pyro\n",
    "        pyro.module(\"encoder\", self.encoder)\n",
    "        pyro.module(\"encoderP\", self.encoderP)\n",
    "        \n",
    "        # A noise scale parameter\n",
    "        da_loc = pyro.param(\"da_loc\", \n",
    "                            torch.tensor(self.noise_loc_prior)\n",
    "                            .to(device=self.device),\n",
    "                            constraint=constraints.positive)\n",
    "        \n",
    "        # Send the data through the encoders\n",
    "        enc = self.encoder(x)\n",
    "        p_y = self.encoderP(x).squeeze()\n",
    "        \n",
    "        # Inference of the latent embedding from the data:\n",
    "        with pyro.plate(\"data\", size=x.shape[0]):\n",
    "            \n",
    "            # Draw scale factors\n",
    "            da = pyro.sample(\"da\", dist.LogNormal(loc=da_loc,\n",
    "                                                  scale=0.05))\n",
    "            \n",
    "            d_mu_estimate = (x.sum(dim=-1, keepdim=False) - da)\n",
    "            d_mu_estimate = torch.clamp(d_mu_estimate, min=0.).log1p()\n",
    "            \n",
    "            d = pyro.sample(\"d\", dist.LogNormal(loc=d_mu_estimate,\n",
    "                                                scale=0.2))\n",
    "            \n",
    "            masking = dist.Bernoulli(logits=p_y).sample().squeeze()\n",
    "            \n",
    "            # Sample z from p(z|x)\n",
    "            z = pyro.sample(\"z\", dist.Normal(loc=enc['loc'],\n",
    "                                             scale=enc['scale'])\n",
    "                            .to_event(1).mask(masking))\n",
    "            \n",
    "            # Draw y for whether image contains a digit\n",
    "            y = pyro.sample(\"y\", dist.Bernoulli(logits=p_y))"
   ]
  },
  {
   "cell_type": "code",
   "execution_count": 22,
   "metadata": {},
   "outputs": [],
   "source": [
    "# setting up the model\n",
    "\n",
    "Q = 20  # dimensionality of our latent embedding\n",
    "\n",
    "D = 28*28\n",
    "assert Q < D, \"The embedded dimension must be less than that of the data.\"\n",
    "\n",
    "encoder = Encoder(d=D, h=100, q=Q)\n",
    "encoderP = EncoderP(d=D, q=1, transition_estimate=np.mean([np.exp(NOISE_SCALE), np.exp(SIGNAL_SCALE)]))\n",
    "decoder = Decoder(q=Q, h=100, d=D)\n",
    "\n",
    "denoiser = Denoiser(encoder, encoderP, decoder, average, use_cuda=USE_CUDA)"
   ]
  },
  {
   "cell_type": "code",
   "execution_count": 23,
   "metadata": {},
   "outputs": [
    {
     "data": {
      "text/plain": [
       "Denoiser(\n",
       "  (encoder): Encoder(\n",
       "    (fc1): Linear(in_features=784, out_features=100, bias=True)\n",
       "    (fc_mu): Linear(in_features=100, out_features=20, bias=True)\n",
       "    (fc_sigma): Linear(in_features=100, out_features=20, bias=True)\n",
       "    (softplus): Softplus(beta=1, threshold=20)\n",
       "  )\n",
       "  (encoderP): EncoderP(\n",
       "    (fc1): Linear(in_features=785, out_features=1, bias=True)\n",
       "  )\n",
       "  (decoder): Decoder(\n",
       "    (fc1): Linear(in_features=20, out_features=100, bias=True)\n",
       "    (fc2): Linear(in_features=100, out_features=784, bias=True)\n",
       "    (softplus): Softplus(beta=1, threshold=20)\n",
       "    (softmax): Softmax()\n",
       "  )\n",
       ")"
      ]
     },
     "execution_count": 23,
     "metadata": {},
     "output_type": "execute_result"
    }
   ],
   "source": [
    "denoiser"
   ]
  },
  {
   "cell_type": "code",
   "execution_count": 24,
   "metadata": {},
   "outputs": [],
   "source": [
    "# set up data loading from sparse tensor\n",
    "\n",
    "class SparseDataLoader:\n",
    "    \"\"\"If the sparse dataset is already on GPU, it stays there.\"\"\"\n",
    "\n",
    "    def __init__(self,\n",
    "                 dataset: torch.sparse.FloatTensor,\n",
    "                 batch_size: int = 512,\n",
    "                 shuffle: bool = True):\n",
    "        self.dataset = dataset\n",
    "        self.ind_list = np.arange(self.dataset.shape[0])\n",
    "        self.batch_size = batch_size\n",
    "        self.shuffle = shuffle\n",
    "        self.row_slice = {}\n",
    "        self._index()\n",
    "        self._reset()\n",
    "\n",
    "    def _reset(self):\n",
    "        if self.shuffle:\n",
    "            np.random.shuffle(self.ind_list)  # Shuffle these cell inds in place\n",
    "        self.ptr = 0\n",
    "    \n",
    "    def _index(self):\n",
    "        # index the rows for faster row slicing using a hash table\n",
    "        \n",
    "        # first sort coo elements by row\n",
    "        order = np.argsort(self.dataset._indices()[0, :].cpu().numpy())\n",
    "        self.dataset = torch.sparse.FloatTensor(self.dataset._indices()[:, order],\n",
    "                                                self.dataset._values()[order],\n",
    "                                                self.dataset.shape)\n",
    "        \n",
    "        # initialize dict\n",
    "        self.row_slice = dict([(r, np.empty(2, dtype=int)) for r in range(self.dataset.shape[0])])\n",
    "        \n",
    "        ptr = 0\n",
    "        rows = self.dataset._indices()[0, :].cpu().numpy()\n",
    "        row_increment_locs = np.where(rows[1:] - rows[:-1] > 0)[0]\n",
    "        \n",
    "        # first row always has start at index 0\n",
    "        self.row_slice[rows[0]][0] = 0\n",
    "        \n",
    "        # for every row increment location, record what ended and what started\n",
    "        # want to be able to index by d[self.row_slice[row_ind][0]:self.row_slice[row_ind][1]]\n",
    "        for loc in row_increment_locs:\n",
    "            \n",
    "            # which row ended there\n",
    "            self.row_slice[rows[loc]][1] = loc + 1\n",
    "            \n",
    "            # which row starts next\n",
    "            self.row_slice[rows[loc + 1]][0] = loc + 1\n",
    "            \n",
    "        # last row always ends at the end\n",
    "        self.row_slice[rows[-1]][1] = rows.size\n",
    "    \n",
    "    def _collate(self, row_inds: np.ndarray) -> torch.FloatTensor:\n",
    "        \"\"\"Row slice a sparse torch tensor and return a dense tensor.\"\"\"\n",
    "        \n",
    "        # create the zero-filled tensor\n",
    "#         dense_tensor = torch.cuda.FloatTensor(1000, 1000).fill_(0)  # on GPU directly\n",
    "        dense_tensor = torch.zeros([row_inds.size, \n",
    "                                    self.dataset.shape[1]]).to(device=self.dataset.device)\n",
    "\n",
    "        # fill in nonzero elements one row at a time\n",
    "        for new_ind, ind in enumerate(row_inds):\n",
    "            dense_tensor[new_ind, \n",
    "                         self.dataset._indices()[1, self.row_slice[ind][0]:self.row_slice[ind][1]]] = \\\n",
    "                self.dataset._values()[self.row_slice[ind][0]:self.row_slice[ind][1]]\n",
    "        \n",
    "        return dense_tensor\n",
    "        \n",
    "#         # slower:\n",
    "        \n",
    "#         # get a torch tensor array of coo entry indices\n",
    "#         slice_inds = tuple()\n",
    "#         for ind in row_inds:\n",
    "#             slice_inds.append(self.row_slice[ind])\n",
    "#         slice_inds = torch.cat(slice_inds)\n",
    "        \n",
    "#         i = self.dataset._indices()[:, slice_inds]  # inds from dataset\n",
    "#         _, rows = torch.unique(i[0, :], return_inverse=True)  # re-indexing rows\n",
    "#         i[0, :] = rows  # rows are now 0:batch_size\n",
    "        \n",
    "#         return torch.sparse.FloatTensor(i,\n",
    "#                                         self.dataset._values()[slice_inds],\n",
    "#                                         torch.Size([row_inds.size, \n",
    "#                                                     self.dataset.shape[1]])).to_dense()\n",
    "\n",
    "    def __len__(self):\n",
    "        return int(self.ind_list.size)\n",
    "\n",
    "    def __iter__(self):\n",
    "        return self\n",
    "\n",
    "    def __next__(self):\n",
    "        if self.ptr == self.ind_list.size:\n",
    "            self._reset()\n",
    "            raise StopIteration()\n",
    "\n",
    "        else:\n",
    "\n",
    "            # Move the pointer by the number of cells in this minibatch.\n",
    "            next_ptr = min(self.ind_list.size, self.ptr + self.batch_size)\n",
    "\n",
    "            # Decide on cell (+ transition region) indices.\n",
    "            inds = self.ind_list[self.ptr:next_ptr]\n",
    "\n",
    "            # Get a dense tensor from the sparse matrix.\n",
    "            dense_tensor = self._collate(inds)\n",
    "\n",
    "            # Increment the pointer and return the minibatch.\n",
    "            self.ptr = next_ptr\n",
    "            return dense_tensor"
   ]
  },
  {
   "cell_type": "code",
   "execution_count": 25,
   "metadata": {},
   "outputs": [],
   "source": [
    "train_loader = SparseDataLoader(sparse_data, batch_size=512, shuffle=True)"
   ]
  },
  {
   "cell_type": "code",
   "execution_count": 26,
   "metadata": {},
   "outputs": [
    {
     "data": {
      "text/plain": [
       "array([  0, 306])"
      ]
     },
     "execution_count": 26,
     "metadata": {},
     "output_type": "execute_result"
    }
   ],
   "source": [
    "train_loader.row_slice[0]"
   ]
  },
  {
   "cell_type": "code",
   "execution_count": 27,
   "metadata": {},
   "outputs": [
    {
     "data": {
      "text/plain": [
       "torch.Size([2, 306])"
      ]
     },
     "execution_count": 27,
     "metadata": {},
     "output_type": "execute_result"
    }
   ],
   "source": [
    "train_loader.dataset._indices()[:, train_loader.row_slice[0][0]:train_loader.row_slice[0][1]].shape"
   ]
  },
  {
   "cell_type": "code",
   "execution_count": 28,
   "metadata": {},
   "outputs": [
    {
     "name": "stdout",
     "output_type": "stream",
     "text": [
      "CPU times: user 870 ms, sys: 5.25 ms, total: 875 ms\n",
      "Wall time: 875 ms\n"
     ]
    }
   ],
   "source": [
    "%%time\n",
    "\n",
    "for d in train_loader:\n",
    "    pass"
   ]
  },
  {
   "cell_type": "code",
   "execution_count": 29,
   "metadata": {},
   "outputs": [
    {
     "data": {
      "text/plain": [
       "torch.Size([303, 784])"
      ]
     },
     "execution_count": 29,
     "metadata": {},
     "output_type": "execute_result"
    }
   ],
   "source": [
    "d.shape"
   ]
  },
  {
   "cell_type": "code",
   "execution_count": 30,
   "metadata": {},
   "outputs": [],
   "source": [
    "def train(svi, train_loader, use_cuda=False):\n",
    "    # initialize loss accumulator\n",
    "    epoch_loss = 0.\n",
    "    # do a training epoch over each mini-batch x returned\n",
    "    # by the data loader\n",
    "    for x in train_loader:\n",
    "        # if on GPU put mini-batch into CUDA memory\n",
    "        if use_cuda:\n",
    "            x = x.cuda()\n",
    "        # do ELBO gradient and accumulate loss\n",
    "        epoch_loss += svi.step(x)\n",
    "\n",
    "    # return epoch loss\n",
    "    normalizer_train = len(train_loader.dataset)\n",
    "    total_epoch_loss_train = epoch_loss / normalizer_train\n",
    "    return total_epoch_loss_train\n",
    "\n",
    "# def evaluate(svi, test_loader, use_cuda=False):\n",
    "#     # initialize loss accumulator\n",
    "#     test_loss = 0.\n",
    "#     # compute the loss over the entire test set\n",
    "#     for x in test_loader:\n",
    "#         # if on GPU put mini-batch into CUDA memory\n",
    "#         if use_cuda:\n",
    "#             x = x.cuda()\n",
    "#         # compute ELBO estimate and accumulate loss\n",
    "#         test_loss += svi.evaluate_loss(x)\n",
    "#     normalizer_test = len(test_loader.dataset)\n",
    "#     total_epoch_loss_test = test_loss / normalizer_test\n",
    "#     return total_epoch_loss_test"
   ]
  },
  {
   "cell_type": "code",
   "execution_count": 31,
   "metadata": {},
   "outputs": [],
   "source": [
    "# start with a clean slate\n",
    "\n",
    "pyro.clear_param_store()\n",
    "train_loader._reset()\n",
    "\n",
    "# setting up inference\n",
    "\n",
    "optimizer = ClippedAdam({\"lr\": 1.0e-3})\n",
    "\n",
    "svi = SVI(denoiser.model, \n",
    "          denoiser.guide, \n",
    "          optimizer, \n",
    "          loss=JitTraceEnum_ELBO())\n",
    "\n",
    "train_elbo = []\n",
    "test_elbo = []"
   ]
  },
  {
   "cell_type": "code",
   "execution_count": 32,
   "metadata": {
    "scrolled": false
   },
   "outputs": [
    {
     "name": "stderr",
     "output_type": "stream",
     "text": [
      "/anaconda3/lib/python3.6/site-packages/ipykernel_launcher.py:91: TracerWarning: torch.tensor results are registered as constants in the trace. You can safely ignore this warning if you use this function to create tensors out of constant variables that would be the same every time you call this function. In any other case, this might cause the trace to be incorrect.\n",
      "/anaconda3/lib/python3.6/site-packages/pyro/distributions/util.py:96: TracerWarning: Converting a tensor to a Python boolean might cause the trace to be incorrect. We can't record the data flow of Python values, so this value will be treated as a constant in the future. This means that the trace might not generalize to other inputs!\n",
      "  elif reversed_shape[i] == 1 and not strict:\n",
      "/anaconda3/lib/python3.6/site-packages/pyro/distributions/util.py:98: TracerWarning: Converting a tensor to a Python boolean might cause the trace to be incorrect. We can't record the data flow of Python values, so this value will be treated as a constant in the future. This means that the trace might not generalize to other inputs!\n",
      "  elif reversed_shape[i] != size and (size != 1 or strict):\n",
      "/anaconda3/lib/python3.6/site-packages/pyro/distributions/torch_distribution.py:240: TracerWarning: Converting a tensor to a Python boolean might cause the trace to be incorrect. We can't record the data flow of Python values, so this value will be treated as a constant in the future. This means that the trace might not generalize to other inputs!\n",
      "  if broadcast_shape(mask.shape, base_dist.batch_shape) != base_dist.batch_shape:\n"
     ]
    },
    {
     "name": "stdout",
     "output_type": "stream",
     "text": [
      "[epoch 000]  average training loss: 2050.4907\n",
      "[epoch 001]  average training loss: 1854.1300\n",
      "[epoch 002]  average training loss: 1719.3957\n",
      "[epoch 003]  average training loss: 1688.3624\n",
      "[epoch 004]  average training loss: 1643.4103\n",
      "[epoch 005]  average training loss: 1555.1400\n",
      "[epoch 006]  average training loss: 1519.0066\n",
      "[epoch 007]  average training loss: 1494.2616\n",
      "[epoch 008]  average training loss: 1443.3833\n",
      "[epoch 009]  average training loss: 1394.0200\n",
      "[epoch 010]  average training loss: 1373.2511\n",
      "[epoch 011]  average training loss: 1357.1384\n",
      "[epoch 012]  average training loss: 1341.5663\n",
      "[epoch 013]  average training loss: 1324.0990\n",
      "[epoch 014]  average training loss: 1301.6976\n",
      "[epoch 015]  average training loss: 1281.3088\n",
      "[epoch 016]  average training loss: 1264.7021\n",
      "[epoch 017]  average training loss: 1250.4065\n",
      "[epoch 018]  average training loss: 1238.8709\n",
      "[epoch 019]  average training loss: 1227.9369\n",
      "[epoch 020]  average training loss: 1216.1659\n",
      "[epoch 021]  average training loss: 1200.7729\n",
      "[epoch 022]  average training loss: 1181.8188\n",
      "[epoch 023]  average training loss: 1168.5027\n",
      "[epoch 024]  average training loss: 1159.8947\n",
      "[epoch 025]  average training loss: 1150.8051\n",
      "[epoch 026]  average training loss: 1143.5402\n",
      "[epoch 027]  average training loss: 1135.6973\n",
      "[epoch 028]  average training loss: 1128.6270\n",
      "[epoch 029]  average training loss: 1121.1318\n",
      "[epoch 030]  average training loss: 1114.9601\n",
      "[epoch 031]  average training loss: 1108.2295\n",
      "[epoch 032]  average training loss: 1100.9905\n",
      "[epoch 033]  average training loss: 1094.3665\n",
      "[epoch 034]  average training loss: 1088.7002\n",
      "[epoch 035]  average training loss: 1083.0202\n",
      "[epoch 036]  average training loss: 1077.8006\n",
      "[epoch 037]  average training loss: 1072.3100\n",
      "[epoch 038]  average training loss: 1067.0954\n",
      "[epoch 039]  average training loss: 1062.8345\n",
      "[epoch 040]  average training loss: 1058.1349\n",
      "[epoch 041]  average training loss: 1052.6086\n",
      "[epoch 042]  average training loss: 1047.6813\n",
      "[epoch 043]  average training loss: 1042.0176\n",
      "[epoch 044]  average training loss: 1036.8852\n",
      "[epoch 045]  average training loss: 1032.6202\n",
      "[epoch 046]  average training loss: 1027.4154\n",
      "[epoch 047]  average training loss: 1023.7051\n",
      "[epoch 048]  average training loss: 1019.6085\n",
      "[epoch 049]  average training loss: 1015.8010\n",
      "[epoch 050]  average training loss: 1012.2192\n",
      "[epoch 051]  average training loss: 1009.0508\n",
      "[epoch 052]  average training loss: 1006.0748\n",
      "[epoch 053]  average training loss: 1003.1528\n",
      "[epoch 054]  average training loss: 1000.2970\n",
      "[epoch 055]  average training loss: 997.3147\n",
      "[epoch 056]  average training loss: 995.1319\n",
      "[epoch 057]  average training loss: 992.4236\n",
      "[epoch 058]  average training loss: 989.7884\n",
      "[epoch 059]  average training loss: 987.5228\n",
      "[epoch 060]  average training loss: 985.2223\n",
      "[epoch 061]  average training loss: 981.9693\n",
      "[epoch 062]  average training loss: 979.6660\n",
      "[epoch 063]  average training loss: 977.9584\n",
      "[epoch 064]  average training loss: 974.6218\n",
      "[epoch 065]  average training loss: 972.2084\n",
      "[epoch 066]  average training loss: 970.8944\n",
      "[epoch 067]  average training loss: 968.5087\n",
      "[epoch 068]  average training loss: 966.4774\n",
      "[epoch 069]  average training loss: 964.3199\n",
      "[epoch 070]  average training loss: 961.5421\n",
      "[epoch 071]  average training loss: 959.7070\n",
      "[epoch 072]  average training loss: 957.5512\n",
      "[epoch 073]  average training loss: 956.1263\n",
      "[epoch 074]  average training loss: 953.5205\n",
      "[epoch 075]  average training loss: 952.1333\n",
      "[epoch 076]  average training loss: 950.0936\n",
      "[epoch 077]  average training loss: 949.2110\n",
      "[epoch 078]  average training loss: 946.7524\n",
      "[epoch 079]  average training loss: 945.9908\n",
      "[epoch 080]  average training loss: 944.0477\n",
      "[epoch 081]  average training loss: 942.6283\n",
      "[epoch 082]  average training loss: 940.5637\n",
      "[epoch 083]  average training loss: 939.6203\n",
      "[epoch 084]  average training loss: 938.7941\n",
      "[epoch 085]  average training loss: 936.6705\n",
      "[epoch 086]  average training loss: 935.6073\n",
      "[epoch 087]  average training loss: 934.2042\n",
      "[epoch 088]  average training loss: 932.5491\n",
      "[epoch 089]  average training loss: 930.9962\n",
      "[epoch 090]  average training loss: 929.6333\n",
      "[epoch 091]  average training loss: 928.7785\n",
      "[epoch 092]  average training loss: 927.0894\n",
      "[epoch 093]  average training loss: 925.9233\n",
      "[epoch 094]  average training loss: 924.7188\n",
      "[epoch 095]  average training loss: 922.7278\n",
      "[epoch 096]  average training loss: 922.8558\n",
      "[epoch 097]  average training loss: 921.0960\n",
      "[epoch 098]  average training loss: 919.7202\n",
      "[epoch 099]  average training loss: 918.7327\n",
      "[epoch 100]  average training loss: 917.3733\n",
      "[epoch 101]  average training loss: 916.6394\n",
      "[epoch 102]  average training loss: 915.6832\n",
      "[epoch 103]  average training loss: 914.5808\n",
      "[epoch 104]  average training loss: 913.9037\n",
      "[epoch 105]  average training loss: 912.9347\n",
      "[epoch 106]  average training loss: 911.9358\n",
      "[epoch 107]  average training loss: 911.3200\n",
      "[epoch 108]  average training loss: 909.5391\n",
      "[epoch 109]  average training loss: 908.6535\n",
      "[epoch 110]  average training loss: 907.7867\n",
      "[epoch 111]  average training loss: 905.9342\n",
      "[epoch 112]  average training loss: 906.3941\n",
      "[epoch 113]  average training loss: 905.5307\n",
      "[epoch 114]  average training loss: 905.5343\n",
      "[epoch 115]  average training loss: 903.5057\n",
      "[epoch 116]  average training loss: 903.1352\n",
      "[epoch 117]  average training loss: 902.0553\n",
      "[epoch 118]  average training loss: 901.2333\n",
      "[epoch 119]  average training loss: 900.3358\n",
      "[epoch 120]  average training loss: 900.4811\n",
      "[epoch 121]  average training loss: 898.7221\n",
      "[epoch 122]  average training loss: 898.1802\n",
      "[epoch 123]  average training loss: 897.7619\n",
      "[epoch 124]  average training loss: 897.2420\n",
      "[epoch 125]  average training loss: 895.7233\n",
      "[epoch 126]  average training loss: 895.1490\n",
      "[epoch 127]  average training loss: 893.8405\n",
      "[epoch 128]  average training loss: 893.4655\n",
      "[epoch 129]  average training loss: 892.9585\n",
      "[epoch 130]  average training loss: 892.2402\n",
      "[epoch 131]  average training loss: 891.8987\n",
      "[epoch 132]  average training loss: 890.1069\n",
      "[epoch 133]  average training loss: 889.9159\n",
      "[epoch 134]  average training loss: 889.0877\n",
      "[epoch 135]  average training loss: 888.2610\n",
      "[epoch 136]  average training loss: 887.3645\n",
      "[epoch 137]  average training loss: 886.2925\n",
      "[epoch 138]  average training loss: 885.9312\n",
      "[epoch 139]  average training loss: 885.3318\n",
      "[epoch 140]  average training loss: 884.3728\n",
      "[epoch 141]  average training loss: 883.5300\n",
      "[epoch 142]  average training loss: 883.2538\n",
      "[epoch 143]  average training loss: 882.4517\n",
      "[epoch 144]  average training loss: 880.7220\n",
      "[epoch 145]  average training loss: 880.1633\n",
      "[epoch 146]  average training loss: 879.5583\n",
      "[epoch 147]  average training loss: 879.0706\n",
      "[epoch 148]  average training loss: 878.0944\n",
      "[epoch 149]  average training loss: 877.4663\n"
     ]
    }
   ],
   "source": [
    "# run\n",
    "\n",
    "NUM_EPOCHS = 150\n",
    "# TEST_FREQUENCY = 5\n",
    "\n",
    "# training loop\n",
    "for epoch in range(NUM_EPOCHS):\n",
    "    total_epoch_loss_train = train(svi, train_loader, use_cuda=USE_CUDA)\n",
    "    train_elbo.append(-total_epoch_loss_train)\n",
    "    print(\"[epoch %03d]  average training loss: %.4f\" % (epoch, total_epoch_loss_train))\n",
    "\n",
    "#     if epoch % TEST_FREQUENCY == 0:\n",
    "#         # report test diagnostics\n",
    "#         total_epoch_loss_test = evaluate(svi, test_loader, use_cuda=USE_CUDA)\n",
    "#         test_elbo.append(-total_epoch_loss_test)\n",
    "#         print(\"[epoch %03d] average test loss: %.4f\" % (epoch, total_epoch_loss_test))"
   ]
  },
  {
   "cell_type": "markdown",
   "metadata": {},
   "source": [
    "Make a dict to do fast lookup of indices for row slicing... ?  \n",
    "\n",
    "Sped things up by a factor of about 600."
   ]
  },
  {
   "cell_type": "code",
   "execution_count": 33,
   "metadata": {},
   "outputs": [
    {
     "data": {
      "image/png": "[encoded data removed]",
      "text/plain": [
       "<Figure size 432x288 with 1 Axes>"
      ]
     },
     "metadata": {},
     "output_type": "display_data"
    }
   ],
   "source": [
    "plt.plot(np.arange(0, len(train_elbo)), np.array(train_elbo))\n",
    "# plt.plot(np.arange(0, len(train_elbo), TEST_FREQUENCY), np.array(test_elbo), '.--')\n",
    "plt.xlabel('epoch')\n",
    "plt.ylabel('ELBO')\n",
    "plt.title('Training procedure')\n",
    "plt.legend(['train', 'test'])\n",
    "plt.show()"
   ]
  },
  {
   "cell_type": "markdown",
   "metadata": {},
   "source": [
    "#### Explore the latent embedding"
   ]
  },
  {
   "cell_type": "code",
   "execution_count": 34,
   "metadata": {},
   "outputs": [],
   "source": [
    "# examine the embedding...\n",
    "\n",
    "# compute the embedding\n",
    "\n",
    "z = np.empty([1, Q])\n",
    "labels = np.empty(1)\n",
    "\n",
    "for data in train_loader:\n",
    "    if z.shape[0] >= 3000:\n",
    "        break\n",
    "    z = np.concatenate((z, denoiser.encoder(data.to(device=denoiser.device))['loc']\n",
    "                        .detach().cpu().numpy()))\n",
    "#     labels = np.concatenate((labels, data[1].numpy()))\n",
    "\n",
    "z[np.isnan(z)] = 0\n",
    "z[z > 1e100] = 1e100"
   ]
  },
  {
   "cell_type": "code",
   "execution_count": 35,
   "metadata": {},
   "outputs": [],
   "source": [
    "# plot it\n",
    "\n",
    "from sklearn.manifold import TSNE\n",
    "\n",
    "z_tsne = TSNE(n_components=2, perplexity=100.).fit_transform(z)"
   ]
  },
  {
   "cell_type": "code",
   "execution_count": 36,
   "metadata": {},
   "outputs": [
    {
     "data": {
      "image/png": "[encoded data removed]",
      "text/plain": [
       "<Figure size 576x576 with 1 Axes>"
      ]
     },
     "metadata": {},
     "output_type": "display_data"
    }
   ],
   "source": [
    "plt.rcParams.update({'font.size': 14})\n",
    "\n",
    "plt.figure(figsize=(8, 8), frameon=False)\n",
    "# for k in np.unique(labels):\n",
    "#     plt.plot(z_tsne[labels==k, 0], \n",
    "#              z_tsne[labels==k, 1], '.', ms=8, alpha=0.5)\n",
    "plt.plot(z_tsne[:, 0], \n",
    "         z_tsne[:, 1], '.', ms=8, alpha=0.5)\n",
    "\n",
    "# lgnd = plt.legend(np.unique(labels).astype(int), \n",
    "#                   loc='center left', bbox_to_anchor=(1, 0.5))\n",
    "# for i in range(len(lgnd.legendHandles)):\n",
    "#     lgnd.legendHandles[i]._legmarker.set_markersize(20)\n",
    "#     lgnd.legendHandles[i]._legmarker.set_alpha(1)\n",
    "\n",
    "plt.xlabel('TSNE 0')\n",
    "plt.ylabel('TSNE 1')\n",
    "plt.title('Visualization of embedding')\n",
    "plt.box(on=None)\n",
    "plt.show()"
   ]
  },
  {
   "cell_type": "code",
   "execution_count": 37,
   "metadata": {},
   "outputs": [
    {
     "name": "stderr",
     "output_type": "stream",
     "text": [
      "/anaconda3/lib/python3.6/site-packages/sklearn/metrics/pairwise.py:257: RuntimeWarning: invalid value encountered in sqrt\n",
      "  return distances if squared else np.sqrt(distances, out=distances)\n",
      "/anaconda3/lib/python3.6/site-packages/umap/spectral.py:229: UserWarning: Embedding a total of 33 separate connected components using meta-embedding (experimental)\n",
      "  n_components\n"
     ]
    }
   ],
   "source": [
    "from umap import UMAP\n",
    "\n",
    "z_umap = UMAP(n_components=2).fit_transform(z)"
   ]
  },
  {
   "cell_type": "code",
   "execution_count": 38,
   "metadata": {},
   "outputs": [
    {
     "data": {
      "image/png": "[encoded data removed]",
      "text/plain": [
       "<Figure size 576x576 with 1 Axes>"
      ]
     },
     "metadata": {},
     "output_type": "display_data"
    }
   ],
   "source": [
    "plt.rcParams.update({'font.size': 14})\n",
    "\n",
    "plt.figure(figsize=(8, 8), frameon=False)\n",
    "# for k in np.unique(labels):\n",
    "#     plt.plot(z_tsne[labels==k, 0], \n",
    "#              z_tsne[labels==k, 1], '.', ms=8, alpha=0.5)\n",
    "plt.plot(z_umap[:, 0], \n",
    "         z_umap[:, 1], '.', ms=8, alpha=0.5)\n",
    "\n",
    "# lgnd = plt.legend(np.unique(labels).astype(int), \n",
    "#                   loc='center left', bbox_to_anchor=(1, 0.5))\n",
    "# for i in range(len(lgnd.legendHandles)):\n",
    "#     lgnd.legendHandles[i]._legmarker.set_markersize(20)\n",
    "#     lgnd.legendHandles[i]._legmarker.set_alpha(1)\n",
    "\n",
    "plt.xlabel('UMAP 0')\n",
    "plt.ylabel('UMAP 1')\n",
    "plt.title('Visualization of embedding')\n",
    "plt.box(on=None)\n",
    "plt.show()"
   ]
  },
  {
   "cell_type": "code",
   "execution_count": 39,
   "metadata": {
    "scrolled": false
   },
   "outputs": [
    {
     "data": {
      "image/png": "[encoded data removed]",
      "text/plain": [
       "<Figure size 432x288 with 2 Axes>"
      ]
     },
     "metadata": {},
     "output_type": "display_data"
    },
    {
     "data": {
      "image/png": "[encoded data removed]",
      "text/plain": [
       "<Figure size 432x288 with 2 Axes>"
      ]
     },
     "metadata": {},
     "output_type": "display_data"
    },
    {
     "data": {
      "image/png": "[encoded data removed]",
      "text/plain": [
       "<Figure size 432x288 with 2 Axes>"
      ]
     },
     "metadata": {},
     "output_type": "display_data"
    },
    {
     "data": {
      "image/png": "[encoded data removed]",
      "text/plain": [
       "<Figure size 432x288 with 2 Axes>"
      ]
     },
     "metadata": {},
     "output_type": "display_data"
    },
    {
     "data": {
      "image/png": "[encoded data removed]",
      "text/plain": [
       "<Figure size 432x288 with 2 Axes>"
      ]
     },
     "metadata": {},
     "output_type": "display_data"
    },
    {
     "data": {
      "image/png": "[encoded data removed]",
      "text/plain": [
       "<Figure size 432x288 with 2 Axes>"
      ]
     },
     "metadata": {},
     "output_type": "display_data"
    },
    {
     "data": {
      "image/png": "[encoded data removed]",
      "text/plain": [
       "<Figure size 432x288 with 2 Axes>"
      ]
     },
     "metadata": {},
     "output_type": "display_data"
    }
   ],
   "source": [
    "# image reconstruction\n",
    "\n",
    "for d in range(data.shape[0]):\n",
    "    plt.subplot(1, 2, 1)\n",
    "    max_element = data[d, ...].max().item()\n",
    "    plt.imshow(data[d, ...].reshape([28, 28]).numpy().squeeze(), cmap='gray',\n",
    "               vmin=0, vmax=max_element)\n",
    "    plt.xticks([])\n",
    "    plt.yticks([])\n",
    "    plt.title('Original')\n",
    "    \n",
    "    plt.subplot(1, 2, 2)\n",
    "    embedding = denoiser.encoder(data[d, ...].to(device=denoiser.device))['loc']\n",
    "    d_est = data[d, ...].sum(dim=-1) - (pyro.param(\"da_loc\").detach() + 0.2**2/2).exp()\n",
    "    reconstruction = (d_est*denoiser.decoder(embedding).detach()).round().cpu().reshape((28, 28)).numpy()\n",
    "\n",
    "    embeddingP = denoiser.encoderP(data[d, ...].to(device=denoiser.device)).sigmoid().item()\n",
    "    \n",
    "    plt.imshow(reconstruction, cmap='gray',\n",
    "               vmin=0, vmax=max_element)\n",
    "    plt.xticks([])\n",
    "    plt.yticks([])\n",
    "#     plt.colorbar()\n",
    "    plt.title(f'Reconstruction: p={embeddingP}')\n",
    "    plt.show()\n",
    "    if d > 5:\n",
    "        break"
   ]
  },
  {
   "cell_type": "code",
   "execution_count": null,
   "metadata": {},
   "outputs": [],
   "source": []
  }
 ],
 "metadata": {
  "kernelspec": {
   "display_name": "Python 3",
   "language": "python",
   "name": "python3"
  },
  "language_info": {
   "codemirror_mode": {
    "name": "ipython",
    "version": 3
   },
   "file_extension": ".py",
   "mimetype": "text/x-python",
   "name": "python",
   "nbconvert_exporter": "python",
   "pygments_lexer": "ipython3",
   "version": "3.6.5"
  }
 },
 "nbformat": 4,
 "nbformat_minor": 2
}
